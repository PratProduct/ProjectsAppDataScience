{
  "cells": [
    {
      "cell_type": "markdown",
      "id": "b3d08535",
      "metadata": {
        "id": "b3d08535"
      },
      "source": [
        "<img src=\"https://raw.githubusercontent.com/afo/data-x-plaksha/master/imgsource/dx_logo.png\" align=\"left\"></img><br><br><br><br>"
      ]
    },
    {
      "cell_type": "markdown",
      "id": "4c408082",
      "metadata": {
        "id": "4c408082"
      },
      "source": [
        "## Plaksha SQL assignment"
      ]
    },
    {
      "cell_type": "markdown",
      "id": "7f7d4113-c3a9-47b2-b7df-b844d49abd22",
      "metadata": {
        "id": "7f7d4113-c3a9-47b2-b7df-b844d49abd22"
      },
      "source": [
        "---\n",
        "\n",
        "## Submission details:\n",
        "\n",
        "Please submit this as a Jupyter Notebook and a PDF of your results (both should show output). Also push your solutions to Github.\n",
        "\n",
        "For the submision create a local database with `sqlite3` or `sqlalchemy` in a Jupyter notebook and make the queries either with a cursor object (and then print the results) or by using pandas `pd.read_sql_query()`."
      ]
    },
    {
      "cell_type": "markdown",
      "id": "0c551f03-7eff-43e2-89a7-a53b54098223",
      "metadata": {
        "id": "0c551f03-7eff-43e2-89a7-a53b54098223"
      },
      "source": [
        "___\n",
        "\n",
        "When completing this homework you can experiment with SQL commands by utilizing this great online editor:\n",
        "\n",
        "https://www.w3schools.com/sql/trysql.asp?filename=trysql_select_all\n",
        "\n",
        "There are already some tables in the online Database, namely:\n",
        "\n",
        "`Categories, Employees, OrderDetails, Orders, Products, Shippers, and Suppliers.`\n",
        "\n",
        "If you want you can drop them by running  `DROP TABLE [table-name];` (or just keep them)."
      ]
    },
    {
      "cell_type": "markdown",
      "id": "dccc820f-21b0-4b2c-9ca8-9cb9eab76023",
      "metadata": {
        "id": "dccc820f-21b0-4b2c-9ca8-9cb9eab76023"
      },
      "source": [
        "___\n",
        "\n",
        "## Exercises:\n",
        "\n",
        "First create a table called students. It has the columns: 'student_id', 'name', 'major', 'gpa' and 'enrollment_date' We will use a new form of `CREATE TABLE` expression to produce this table.\n",
        "\n",
        "Note that you can improve this and are welcome to do so -- e.g. by specifying for example a PRIMARY KEY and a FOREIGN KEY in Q2 :)\n",
        "\n",
        "    CREATE TABLE students AS\n",
        "        SELECT 1 AS student_id, \"John\" AS name, \"Computer Science\" AS major, 3.5 AS gpa, \"01-01-2022\" AS enrollment_date UNION\n",
        "        SELECT 2, \"Jane\", \"Physics\", 3.8, \"01-02-2022\" UNION\n",
        "        SELECT 3, \"Bob\", \"Engineering\", 3.0, \"01-03-2022\" UNION\n",
        "        SELECT 4, \"Samantha\", \"Physics\", 3.9, \"01-04-2022\" UNION\n",
        "        SELECT 5, \"James\", \"Engineering\", 3.7, \"01-05-2022\" UNION\n",
        "        SELECT 6, \"Emily\", \"Computer Science\", 3.6, \"01-06-2022\" UNION\n",
        "        SELECT 7, \"Michael\", \"Computer Science\", 3.2, \"01-07-2022\" UNION\n",
        "        SELECT 8, \"Jessica\", \"Engineering\", 3.8, \"01-08-2022\" UNION\n",
        "        SELECT 9, \"Jacob\", \"Physics\", 3.4, \"01-09-2022\" UNION\n",
        "        SELECT 10, \"Ashley\", \"Physics\", 3.9, \"01-10-2022\";\n",
        "\n",
        "\n",
        "## Q1 Simple SELECTS (on the students table)\n",
        "1. SELECT all records in the table.\n",
        "2. SELECT students whose major is \"Computer Science\".\n",
        "3. SELECT all unique majors (use SELECT DISTINCT) and order them by name, descending order (i.e. Physics first).\n",
        "4. SELECT all students that have an 'e' in their name and order them by gpa in ascending order.\n",
        "\n",
        "\n",
        "## Q2 Joins\n",
        "\n",
        "Create a new table called courses, which indicates the courses taken by the students. \n",
        "\n",
        "Create the table by running:\n",
        "\t\n",
        "    CREATE TABLE courses AS\n",
        "        SELECT 1 AS course_id, \"Python programming\" AS course_name, 1 AS student_id, \"A\" AS grade UNION\n",
        "        SELECT 2, \"Data Structures\", 2, \"B\" UNION\n",
        "        SELECT 3, \"Database Systems\", 3, \"B\" UNION\n",
        "        SELECT 1, \"Python programming\", 4, \"A\" UNION\n",
        "        SELECT 4, \"Quantum Mechanics\", 5, \"C\" UNION\n",
        "        SELECT 1, \"Python programming\", 6, \"F\" UNION\n",
        "        SELECT 2, \"Data Structures\", 7, \"C\" UNION\n",
        "        SELECT 3, \"Database Systems\", 8, \"A\" UNION\n",
        "        SELECT 4, \"Quantum Mechanics\", 9, \"A\" UNION\n",
        "        SELECT 2, \"Data Structures\", 10, \"F\";\n",
        "\n",
        "1. COUNT the number of unique courses.\n",
        "2. JOIN the tables students and courses and COUNT the number of students with the major Computer Science taking the course Python programming.\n",
        "3. JOIN the tables students and courses and select the students who have grades higher than \"C\", only show their name, major, gpa, course_name and grade.\n",
        "\n",
        "\n",
        "## Q3 Aggregate functions, numerical logic and grouping\n",
        "\n",
        "1. Find the average gpa of all students.\n",
        "2. SELECT the student with the maximum gpa, display only their student_id, major and gpa\n",
        "3. SELECT the student with the minimum gpa, display only their student_id, major and gpa\n",
        "4. SELECT the students with a gpa greater than 3.6 in the majors of \"Physics\" and \"Engineering\", display only their student_id, major and gpa\n",
        "5. Group the students by their major and retrieve the average grade of each major.\n",
        "6. SELECT the top 2 students with the highest GPA in each major and order the results by major in ascending order, then by GPA in descending order"
      ]
    },
    {
      "cell_type": "markdown",
      "id": "3ab84519",
      "metadata": {
        "id": "3ab84519"
      },
      "source": [
        "# Your solution"
      ]
    },
    {
      "cell_type": "markdown",
      "source": [
        "###Pre-work"
      ],
      "metadata": {
        "id": "VEwo5w6wVnIY"
      },
      "id": "VEwo5w6wVnIY"
    },
    {
      "cell_type": "code",
      "execution_count": 1,
      "id": "c7cff114",
      "metadata": {
        "id": "c7cff114"
      },
      "outputs": [],
      "source": [
        "# Importing our database engine\n",
        "import sqlite3"
      ]
    },
    {
      "cell_type": "code",
      "source": [
        "!ls"
      ],
      "metadata": {
        "colab": {
          "base_uri": "https://localhost:8080/",
          "height": 0
        },
        "id": "NJRJ6zuDK_Oh",
        "outputId": "2234f072-6a7c-4632-fee7-bd071461176b"
      },
      "id": "NJRJ6zuDK_Oh",
      "execution_count": 4,
      "outputs": [
        {
          "output_type": "stream",
          "name": "stdout",
          "text": [
            "sample_data  students.db\n"
          ]
        }
      ]
    },
    {
      "cell_type": "code",
      "source": [
        "# Creating a connection to sqlite3 by creating a new database, students.db\n",
        "connection = sqlite3.connect('students.db')"
      ],
      "metadata": {
        "id": "tmxunWN6LG5-"
      },
      "id": "tmxunWN6LG5-",
      "execution_count": 2,
      "outputs": []
    },
    {
      "cell_type": "code",
      "source": [
        "# Checking if the database is created\n",
        "!ls"
      ],
      "metadata": {
        "colab": {
          "base_uri": "https://localhost:8080/",
          "height": 0
        },
        "id": "a-cC5Bo8V9_M",
        "outputId": "8b5c73a3-9534-4fd3-f951-2e9b22304ea3"
      },
      "id": "a-cC5Bo8V9_M",
      "execution_count": 4,
      "outputs": [
        {
          "output_type": "stream",
          "name": "stdout",
          "text": [
            "sample_data  students.db\n"
          ]
        }
      ]
    },
    {
      "cell_type": "code",
      "source": [
        "# Creating a cursor object for the execution of the queries\n",
        "cursor = connection.cursor()"
      ],
      "metadata": {
        "id": "w-txZrz2LNBP"
      },
      "id": "w-txZrz2LNBP",
      "execution_count": 5,
      "outputs": []
    },
    {
      "cell_type": "code",
      "source": [
        "# Creating the students table and checking if the data is populated correctly\n",
        "cursor.execute(\"DROP TABLE IF EXISTS students;\")\n",
        "\n",
        "sql_command = \"\"\"\n",
        "CREATE TABLE students AS\n",
        "    SELECT 1 AS student_id, \"John\" AS name, \"Computer Science\" AS major, 3.5 AS gpa, \"01-01-2022\" AS enrollment_date UNION\n",
        "    SELECT 2, \"Jane\", \"Physics\", 3.8, \"01-02-2022\" UNION\n",
        "    SELECT 3, \"Bob\", \"Engineering\", 3.0, \"01-03-2022\" UNION\n",
        "    SELECT 4, \"Samantha\", \"Physics\", 3.9, \"01-04-2022\" UNION\n",
        "    SELECT 5, \"James\", \"Engineering\", 3.7, \"01-05-2022\" UNION\n",
        "    SELECT 6, \"Emily\", \"Computer Science\", 3.6, \"01-06-2022\" UNION\n",
        "    SELECT 7, \"Michael\", \"Computer Science\", 3.2, \"01-07-2022\" UNION\n",
        "    SELECT 8, \"Jessica\", \"Engineering\", 3.8, \"01-08-2022\" UNION\n",
        "    SELECT 9, \"Jacob\", \"Physics\", 3.4, \"01-09-2022\" UNION\n",
        "    SELECT 10, \"Ashley\", \"Physics\", 3.9, \"01-10-2022\";\n",
        "\"\"\"\n",
        "\n",
        "cursor.execute(sql_command)\n",
        "\n",
        "all_student_records=cursor.execute('SELECT * FROM students')\n",
        "\n",
        "for row in all_student_records.fetchall():\n",
        "    print(row)"
      ],
      "metadata": {
        "colab": {
          "base_uri": "https://localhost:8080/",
          "height": 0
        },
        "id": "Jb1YTly3LTDn",
        "outputId": "379c2f6c-23b1-4bb6-e4bb-225cdf71172a"
      },
      "id": "Jb1YTly3LTDn",
      "execution_count": 6,
      "outputs": [
        {
          "output_type": "stream",
          "name": "stdout",
          "text": [
            "(1, 'John', 'Computer Science', 3.5, '01-01-2022')\n",
            "(2, 'Jane', 'Physics', 3.8, '01-02-2022')\n",
            "(3, 'Bob', 'Engineering', 3.0, '01-03-2022')\n",
            "(4, 'Samantha', 'Physics', 3.9, '01-04-2022')\n",
            "(5, 'James', 'Engineering', 3.7, '01-05-2022')\n",
            "(6, 'Emily', 'Computer Science', 3.6, '01-06-2022')\n",
            "(7, 'Michael', 'Computer Science', 3.2, '01-07-2022')\n",
            "(8, 'Jessica', 'Engineering', 3.8, '01-08-2022')\n",
            "(9, 'Jacob', 'Physics', 3.4, '01-09-2022')\n",
            "(10, 'Ashley', 'Physics', 3.9, '01-10-2022')\n"
          ]
        }
      ]
    },
    {
      "cell_type": "code",
      "source": [
        "# Creating the courses table and checking if the data is populated correctly\n",
        "cursor.execute(\"DROP TABLE IF EXISTS courses;\")\n",
        "\n",
        "sql_command = \"\"\"\n",
        "CREATE TABLE courses AS\n",
        "    SELECT 1 AS course_id, \"Python programming\" AS course_name, 1 AS student_id, \"A\" AS grade UNION\n",
        "    SELECT 2, \"Data Structures\", 2, \"B\" UNION\n",
        "    SELECT 3, \"Database Systems\", 3, \"B\" UNION\n",
        "    SELECT 1, \"Python programming\", 4, \"A\" UNION\n",
        "    SELECT 4, \"Quantum Mechanics\", 5, \"C\" UNION\n",
        "    SELECT 1, \"Python programming\", 6, \"F\" UNION\n",
        "    SELECT 2, \"Data Structures\", 7, \"C\" UNION\n",
        "    SELECT 3, \"Database Systems\", 8, \"A\" UNION\n",
        "    SELECT 4, \"Quantum Mechanics\", 9, \"A\" UNION\n",
        "    SELECT 2, \"Data Structures\", 10, \"F\";\n",
        "\"\"\"\n",
        "\n",
        "cursor.execute(sql_command)\n",
        "\n",
        "all_course_records=cursor.execute('SELECT * FROM courses')\n",
        "\n",
        "for row in all_course_records.fetchall():\n",
        "    print(row)"
      ],
      "metadata": {
        "colab": {
          "base_uri": "https://localhost:8080/",
          "height": 0
        },
        "id": "kep6S84EWl91",
        "outputId": "350e0247-5df0-41fc-c14a-9dbe237ec151"
      },
      "id": "kep6S84EWl91",
      "execution_count": 7,
      "outputs": [
        {
          "output_type": "stream",
          "name": "stdout",
          "text": [
            "(1, 'Python programming', 1, 'A')\n",
            "(1, 'Python programming', 4, 'A')\n",
            "(1, 'Python programming', 6, 'F')\n",
            "(2, 'Data Structures', 2, 'B')\n",
            "(2, 'Data Structures', 7, 'C')\n",
            "(2, 'Data Structures', 10, 'F')\n",
            "(3, 'Database Systems', 3, 'B')\n",
            "(3, 'Database Systems', 8, 'A')\n",
            "(4, 'Quantum Mechanics', 5, 'C')\n",
            "(4, 'Quantum Mechanics', 9, 'A')\n"
          ]
        }
      ]
    },
    {
      "cell_type": "code",
      "source": [
        "# Viewing the merged view of the tables\n",
        "merge=cursor.execute(\"SELECT * FROM students JOIN courses ON students.student_id=courses.student_id;\").fetchall()\n",
        "for i in merge:\n",
        "  print(i)"
      ],
      "metadata": {
        "colab": {
          "base_uri": "https://localhost:8080/",
          "height": 0
        },
        "id": "yETPnkl2YlEI",
        "outputId": "23449efc-28d9-45b2-8678-c378fdd9da47"
      },
      "id": "yETPnkl2YlEI",
      "execution_count": 19,
      "outputs": [
        {
          "output_type": "stream",
          "name": "stdout",
          "text": [
            "(1, 'John', 'Computer Science', 3.5, '01-01-2022', 1, 'Python programming', 1, 'A')\n",
            "(2, 'Jane', 'Physics', 3.8, '01-02-2022', 2, 'Data Structures', 2, 'B')\n",
            "(3, 'Bob', 'Engineering', 3.0, '01-03-2022', 3, 'Database Systems', 3, 'B')\n",
            "(4, 'Samantha', 'Physics', 3.9, '01-04-2022', 1, 'Python programming', 4, 'A')\n",
            "(5, 'James', 'Engineering', 3.7, '01-05-2022', 4, 'Quantum Mechanics', 5, 'C')\n",
            "(6, 'Emily', 'Computer Science', 3.6, '01-06-2022', 1, 'Python programming', 6, 'F')\n",
            "(7, 'Michael', 'Computer Science', 3.2, '01-07-2022', 2, 'Data Structures', 7, 'C')\n",
            "(8, 'Jessica', 'Engineering', 3.8, '01-08-2022', 3, 'Database Systems', 8, 'A')\n",
            "(9, 'Jacob', 'Physics', 3.4, '01-09-2022', 4, 'Quantum Mechanics', 9, 'A')\n",
            "(10, 'Ashley', 'Physics', 3.9, '01-10-2022', 2, 'Data Structures', 10, 'F')\n"
          ]
        }
      ]
    },
    {
      "cell_type": "markdown",
      "source": [
        "###Q1"
      ],
      "metadata": {
        "id": "8eYgyoVJXECV"
      },
      "id": "8eYgyoVJXECV"
    },
    {
      "cell_type": "code",
      "source": [
        "# SELECT all records in the table\n",
        "cursor.execute('SELECT * FROM students').fetchall()"
      ],
      "metadata": {
        "colab": {
          "base_uri": "https://localhost:8080/",
          "height": 0
        },
        "id": "C2512oxrXL9K",
        "outputId": "fd3eb2a2-db79-4574-f06b-403e842c5683"
      },
      "id": "C2512oxrXL9K",
      "execution_count": 8,
      "outputs": [
        {
          "output_type": "execute_result",
          "data": {
            "text/plain": [
              "[(1, 'John', 'Computer Science', 3.5, '01-01-2022'),\n",
              " (2, 'Jane', 'Physics', 3.8, '01-02-2022'),\n",
              " (3, 'Bob', 'Engineering', 3.0, '01-03-2022'),\n",
              " (4, 'Samantha', 'Physics', 3.9, '01-04-2022'),\n",
              " (5, 'James', 'Engineering', 3.7, '01-05-2022'),\n",
              " (6, 'Emily', 'Computer Science', 3.6, '01-06-2022'),\n",
              " (7, 'Michael', 'Computer Science', 3.2, '01-07-2022'),\n",
              " (8, 'Jessica', 'Engineering', 3.8, '01-08-2022'),\n",
              " (9, 'Jacob', 'Physics', 3.4, '01-09-2022'),\n",
              " (10, 'Ashley', 'Physics', 3.9, '01-10-2022')]"
            ]
          },
          "metadata": {},
          "execution_count": 8
        }
      ]
    },
    {
      "cell_type": "code",
      "source": [
        "# SELECT students whose major is \"Computer Science\"\n",
        "cursor.execute('SELECT * FROM students WHERE major=\"Computer Science\";').fetchall()"
      ],
      "metadata": {
        "colab": {
          "base_uri": "https://localhost:8080/",
          "height": 0
        },
        "id": "cr8vUvqyMm6p",
        "outputId": "64478a74-8214-4fb4-da6c-bb3f60781e60"
      },
      "id": "cr8vUvqyMm6p",
      "execution_count": 9,
      "outputs": [
        {
          "output_type": "execute_result",
          "data": {
            "text/plain": [
              "[(1, 'John', 'Computer Science', 3.5, '01-01-2022'),\n",
              " (6, 'Emily', 'Computer Science', 3.6, '01-06-2022'),\n",
              " (7, 'Michael', 'Computer Science', 3.2, '01-07-2022')]"
            ]
          },
          "metadata": {},
          "execution_count": 9
        }
      ]
    },
    {
      "cell_type": "code",
      "source": [
        "# SELECT all unique majors (use SELECT DISTINCT) and order them by name, descending order (i.e. Physics first)\n",
        "unique_courses=cursor.execute('SELECT DISTINCT major FROM students ORDER BY major DESC;')\n",
        "for i in unique_courses.fetchall():\n",
        "  print(i[0])"
      ],
      "metadata": {
        "colab": {
          "base_uri": "https://localhost:8080/",
          "height": 0
        },
        "id": "cychKOQ0Op2j",
        "outputId": "c9023368-60ca-4d7e-e431-d3bafcdb04f3"
      },
      "id": "cychKOQ0Op2j",
      "execution_count": 11,
      "outputs": [
        {
          "output_type": "stream",
          "name": "stdout",
          "text": [
            "Physics\n",
            "Engineering\n",
            "Computer Science\n"
          ]
        }
      ]
    },
    {
      "cell_type": "code",
      "source": [
        "# SELECT all students that have an 'e' in their name and order them by gpa in ascending order\n",
        "cursor.execute('SELECT * FROM students WHERE name LIKE \"%e%\" ORDER BY gpa;').fetchall()"
      ],
      "metadata": {
        "colab": {
          "base_uri": "https://localhost:8080/",
          "height": 0
        },
        "id": "rHorh7B-PBx0",
        "outputId": "7a1055ec-8f1d-4efb-aa3c-9ba91032b18c"
      },
      "id": "rHorh7B-PBx0",
      "execution_count": 12,
      "outputs": [
        {
          "output_type": "execute_result",
          "data": {
            "text/plain": [
              "[(7, 'Michael', 'Computer Science', 3.2, '01-07-2022'),\n",
              " (6, 'Emily', 'Computer Science', 3.6, '01-06-2022'),\n",
              " (5, 'James', 'Engineering', 3.7, '01-05-2022'),\n",
              " (2, 'Jane', 'Physics', 3.8, '01-02-2022'),\n",
              " (8, 'Jessica', 'Engineering', 3.8, '01-08-2022'),\n",
              " (10, 'Ashley', 'Physics', 3.9, '01-10-2022')]"
            ]
          },
          "metadata": {},
          "execution_count": 12
        }
      ]
    },
    {
      "cell_type": "markdown",
      "source": [
        "###Q2"
      ],
      "metadata": {
        "id": "ZmXikD5XYBuP"
      },
      "id": "ZmXikD5XYBuP"
    },
    {
      "cell_type": "code",
      "source": [
        "# COUNT the number of unique courses\n",
        "cursor.execute('SELECT COUNT(DISTINCT course_name) FROM courses;').fetchone()[0]"
      ],
      "metadata": {
        "colab": {
          "base_uri": "https://localhost:8080/",
          "height": 0
        },
        "id": "dZTbAu-SPyo1",
        "outputId": "32e09246-f3a5-49d6-98fc-ad04b89fa0b5"
      },
      "id": "dZTbAu-SPyo1",
      "execution_count": 13,
      "outputs": [
        {
          "output_type": "execute_result",
          "data": {
            "text/plain": [
              "4"
            ]
          },
          "metadata": {},
          "execution_count": 13
        }
      ]
    },
    {
      "cell_type": "code",
      "source": [
        "# JOIN the tables students and courses and COUNT the number of students with the major Computer Science taking the course Python programming\n",
        "cursor.execute('SELECT COUNT(*) FROM students JOIN courses ON students.student_id=courses.student_id WHERE major=\"Computer Science\" AND course_name=\"Python programming\";').fetchone()[0]"
      ],
      "metadata": {
        "colab": {
          "base_uri": "https://localhost:8080/",
          "height": 0
        },
        "id": "enk8Mes4QWis",
        "outputId": "ef8a1a2b-5467-4e51-bc5d-56c4cf07e5ed"
      },
      "id": "enk8Mes4QWis",
      "execution_count": 14,
      "outputs": [
        {
          "output_type": "execute_result",
          "data": {
            "text/plain": [
              "2"
            ]
          },
          "metadata": {},
          "execution_count": 14
        }
      ]
    },
    {
      "cell_type": "code",
      "source": [
        "# JOIN the tables students and courses and select the students who have grades higher than \"C\", only show their name, major, gpa, course_name and grade\n",
        "cursor.execute('SELECT name, major, gpa, course_name, grade FROM students JOIN courses ON students.student_id=courses.student_id WHERE grade<\"C\";').fetchall()"
      ],
      "metadata": {
        "colab": {
          "base_uri": "https://localhost:8080/",
          "height": 0
        },
        "id": "xroThbuiR7Gl",
        "outputId": "e07bf033-07da-428a-8e39-1f92b1f9f8da"
      },
      "id": "xroThbuiR7Gl",
      "execution_count": 20,
      "outputs": [
        {
          "output_type": "execute_result",
          "data": {
            "text/plain": [
              "[('John', 'Computer Science', 3.5, 'Python programming', 'A'),\n",
              " ('Samantha', 'Physics', 3.9, 'Python programming', 'A'),\n",
              " ('Jane', 'Physics', 3.8, 'Data Structures', 'B'),\n",
              " ('Bob', 'Engineering', 3.0, 'Database Systems', 'B'),\n",
              " ('Jessica', 'Engineering', 3.8, 'Database Systems', 'A'),\n",
              " ('Jacob', 'Physics', 3.4, 'Quantum Mechanics', 'A')]"
            ]
          },
          "metadata": {},
          "execution_count": 20
        }
      ]
    },
    {
      "cell_type": "markdown",
      "source": [
        "### Q3"
      ],
      "metadata": {
        "id": "oxWZttG3ZMaH"
      },
      "id": "oxWZttG3ZMaH"
    },
    {
      "cell_type": "code",
      "source": [
        "# Find the average gpa of all students\n",
        "cursor.execute('SELECT AVG(gpa) FROM students;').fetchone()[0]"
      ],
      "metadata": {
        "colab": {
          "base_uri": "https://localhost:8080/",
          "height": 0
        },
        "id": "TtuE_7ijTfdG",
        "outputId": "4e625d9a-e808-471c-cd1a-c92acc9fe4f4"
      },
      "id": "TtuE_7ijTfdG",
      "execution_count": 21,
      "outputs": [
        {
          "output_type": "execute_result",
          "data": {
            "text/plain": [
              "3.5800000000000005"
            ]
          },
          "metadata": {},
          "execution_count": 21
        }
      ]
    },
    {
      "cell_type": "code",
      "source": [
        "# SELECT the student with the maximum gpa, display only their student_id, major and gpa\n",
        "res=cursor.execute('SELECT student_id, major, gpa FROM students WHERE gpa=(SELECT MAX(gpa) FROM students);').fetchall()\n",
        "for i in res:\n",
        "  print(i)"
      ],
      "metadata": {
        "colab": {
          "base_uri": "https://localhost:8080/",
          "height": 0
        },
        "id": "2FPMwsRUT5oA",
        "outputId": "d335a951-cd40-4034-9136-a84dc89ec8fa"
      },
      "id": "2FPMwsRUT5oA",
      "execution_count": 22,
      "outputs": [
        {
          "output_type": "stream",
          "name": "stdout",
          "text": [
            "(4, 'Physics', 3.9)\n",
            "(10, 'Physics', 3.9)\n"
          ]
        }
      ]
    },
    {
      "cell_type": "code",
      "source": [
        "# SELECT the student with the minimum gpa, display only their student_id, major and gpa\n",
        "cursor.execute('SELECT student_id, major, gpa FROM students WHERE gpa=(SELECT MIN(gpa) FROM students);').fetchall()"
      ],
      "metadata": {
        "colab": {
          "base_uri": "https://localhost:8080/",
          "height": 0
        },
        "id": "J9wbArEXUS1i",
        "outputId": "3bde9115-fdf4-47eb-aa90-611380bd8349"
      },
      "id": "J9wbArEXUS1i",
      "execution_count": 23,
      "outputs": [
        {
          "output_type": "execute_result",
          "data": {
            "text/plain": [
              "[(3, 'Engineering', 3.0)]"
            ]
          },
          "metadata": {},
          "execution_count": 23
        }
      ]
    },
    {
      "cell_type": "code",
      "source": [
        "# SELECT the students with a gpa greater than 3.6 in the majors of \"Physics\" and \"Engineering\", display only their student_id, major and gpa\n",
        "cursor.execute('SELECT student_id, major, gpa FROM students WHERE gpa>3.6 AND major IN (\"Physics\",\"Engineering\");').fetchall()"
      ],
      "metadata": {
        "colab": {
          "base_uri": "https://localhost:8080/",
          "height": 0
        },
        "id": "Ic9bpaybUkfN",
        "outputId": "d85391b1-b087-449a-8fd8-9575983b905d"
      },
      "id": "Ic9bpaybUkfN",
      "execution_count": 24,
      "outputs": [
        {
          "output_type": "execute_result",
          "data": {
            "text/plain": [
              "[(2, 'Physics', 3.8),\n",
              " (4, 'Physics', 3.9),\n",
              " (5, 'Engineering', 3.7),\n",
              " (8, 'Engineering', 3.8),\n",
              " (10, 'Physics', 3.9)]"
            ]
          },
          "metadata": {},
          "execution_count": 24
        }
      ]
    },
    {
      "cell_type": "code",
      "source": [
        "# Group the students by their major and retrieve the average grade of each major\n",
        "res=cursor.execute('SELECT major, AVG(gpa) FROM students GROUP BY major;').fetchall() \n",
        "for i in res:\n",
        "  print(i)"
      ],
      "metadata": {
        "colab": {
          "base_uri": "https://localhost:8080/",
          "height": 0
        },
        "id": "GS5sz96-VGU9",
        "outputId": "691efbe4-907d-479c-81cd-235bc417ffa7"
      },
      "id": "GS5sz96-VGU9",
      "execution_count": 27,
      "outputs": [
        {
          "output_type": "stream",
          "name": "stdout",
          "text": [
            "('Computer Science', 3.4333333333333336)\n",
            "('Engineering', 3.5)\n",
            "('Physics', 3.75)\n"
          ]
        }
      ]
    },
    {
      "cell_type": "code",
      "source": [
        "# SELECT the top 2 students with the highest GPA in each major and order the results by major in ascending order, then by GPA in descending order\n",
        "cursor.execute('SELECT * FROM (SELECT * FROM students WHERE major=\"Computer Science\" ORDER BY gpa DESC LIMIT 2)\\\n",
        " UNION\\\n",
        " SELECT * FROM (SELECT * FROM students WHERE major=\"Physics\" ORDER BY gpa DESC LIMIT 2)\\\n",
        " UNION\\\n",
        " SELECT * FROM (SELECT * FROM students WHERE major=\"Engineering\" ORDER BY gpa DESC LIMIT 2)\\\n",
        " ORDER BY major ASC, gpa DESC;').fetchall()"
      ],
      "metadata": {
        "colab": {
          "base_uri": "https://localhost:8080/",
          "height": 0
        },
        "id": "nQC1wTUGVWUE",
        "outputId": "0369ac25-3895-465d-ca0d-1fbcb2a4bcaa"
      },
      "id": "nQC1wTUGVWUE",
      "execution_count": 28,
      "outputs": [
        {
          "output_type": "execute_result",
          "data": {
            "text/plain": [
              "[(6, 'Emily', 'Computer Science', 3.6, '01-06-2022'),\n",
              " (1, 'John', 'Computer Science', 3.5, '01-01-2022'),\n",
              " (8, 'Jessica', 'Engineering', 3.8, '01-08-2022'),\n",
              " (5, 'James', 'Engineering', 3.7, '01-05-2022'),\n",
              " (4, 'Samantha', 'Physics', 3.9, '01-04-2022'),\n",
              " (10, 'Ashley', 'Physics', 3.9, '01-10-2022')]"
            ]
          },
          "metadata": {},
          "execution_count": 28
        }
      ]
    },
    {
      "cell_type": "code",
      "source": [
        "# Commiting the changes and closing the connection to the database\n",
        "connection.commit() \n",
        "\n",
        "connection.close()"
      ],
      "metadata": {
        "id": "KZ0WPc3NWPsM"
      },
      "id": "KZ0WPc3NWPsM",
      "execution_count": 29,
      "outputs": []
    },
    {
      "cell_type": "code",
      "source": [],
      "metadata": {
        "id": "1TdOfIKyaDjx"
      },
      "id": "1TdOfIKyaDjx",
      "execution_count": null,
      "outputs": []
    }
  ],
  "metadata": {
    "kernelspec": {
      "display_name": "Python 3 (ipykernel)",
      "language": "python",
      "name": "python3"
    },
    "language_info": {
      "codemirror_mode": {
        "name": "ipython",
        "version": 3
      },
      "file_extension": ".py",
      "mimetype": "text/x-python",
      "name": "python",
      "nbconvert_exporter": "python",
      "pygments_lexer": "ipython3",
      "version": "3.9.15"
    },
    "colab": {
      "provenance": []
    }
  },
  "nbformat": 4,
  "nbformat_minor": 5
}